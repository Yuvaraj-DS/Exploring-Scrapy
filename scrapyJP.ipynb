{
 "cells": [
  {
   "cell_type": "markdown",
   "metadata": {},
   "source": [
    "## Scrapy"
   ]
  },
  {
   "cell_type": "code",
   "execution_count": 13,
   "metadata": {},
   "outputs": [],
   "source": [
    "import scrapy\n",
    "\n",
    "class SpiderClass(scrapy.Spider):\n",
    "    name = 'quotes'\n",
    "    \n",
    "    def start_request(self):\n",
    "        urls = ['http://quotes.toscrape.com/page/1/',\n",
    "               'http://quotes.toscrape.com/page/2/']\n",
    "\n",
    "        for url in urls:\n",
    "            result = scrapy.Request(url = url, callback = self.parse)\n",
    "            yield result\n",
    "\n",
    "    def parse(self, response):\n",
    "        \n",
    "        page = response.url.split('/')[-2]\n",
    "        filename = 'quotes-%s.html' % page\n",
    "        \n",
    "        with open(filename, 'wb') as f:\n",
    "            f.write(response.body)\n",
    "        print('saved')\n"
   ]
  },
  {
   "cell_type": "code",
   "execution_count": 12,
   "metadata": {},
   "outputs": [
    {
     "data": {
      "text/plain": [
       "<generator object SpiderClass.start_request at 0x109d50bd0>"
      ]
     },
     "execution_count": 12,
     "metadata": {},
     "output_type": "execute_result"
    }
   ],
   "source": [
    "spiderclass = SpiderClass()\n",
    "spiderclass.start_request()"
   ]
  },
  {
   "cell_type": "code",
   "execution_count": null,
   "metadata": {},
   "outputs": [],
   "source": []
  }
 ],
 "metadata": {
  "kernelspec": {
   "display_name": "Python 3",
   "language": "python",
   "name": "python3"
  },
  "language_info": {
   "codemirror_mode": {
    "name": "ipython",
    "version": 3
   },
   "file_extension": ".py",
   "mimetype": "text/x-python",
   "name": "python",
   "nbconvert_exporter": "python",
   "pygments_lexer": "ipython3",
   "version": "3.7.4"
  }
 },
 "nbformat": 4,
 "nbformat_minor": 4
}
